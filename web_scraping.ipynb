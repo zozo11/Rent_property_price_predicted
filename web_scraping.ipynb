{
 "cells": [
  {
   "cell_type": "markdown",
   "metadata": {},
   "source": [
    "### There is a web scraping code for seek.nz"
   ]
  },
  {
   "cell_type": "code",
   "execution_count": null,
   "metadata": {},
   "outputs": [],
   "source": [
    "# This code for web scraping on seek.co.nz. I get job location and job decraption from seek list first 100 page\n",
    "job_info = []\n",
    "for i in range(200):\n",
    "    url = 'https://www.seek.co.nz/jobs?page={}'.format(i + 1)\n",
    "    response = requests.get(url)\n",
    "    scraping = bs(response.text, \"lxml\")\n",
    "    job_id = scraping.find_all('a', {'href': re.compile('/job/(.*|)?type=standout')})\n",
    "    for job in job_id:\n",
    "            url1 = \"https://www.seek.co.nz{}\".format(job['href']) \n",
    "            request_job = requests.get(url1)\n",
    "            html = request_job.text.encode(request_job.encoding).decode()\n",
    "            job_text = bs(html, \"lxml\")\n",
    "            data = job_text.find(attrs={'aria-labelledby':'jobInfoHeader'})\n",
    "            #dds = data.find_all('dd')\n",
    "            for tag in date: \n",
    "                job_info.append({\n",
    "                    'Date': dds[0].text,\n",
    "                    'Location': dds[1].text,\n",
    "                    'Salary(NZD) or Type': dds[2].text,\n",
    "                    'Working Type': dds[3].text\n",
    "                })\n",
    "                df = pd.DataFrame(job_info)\n",
    "                df.to_csv(\"calls2.csv\", index=False)\n",
    "                "
   ]
  },
  {
   "cell_type": "code",
   "execution_count": null,
   "metadata": {},
   "outputs": [],
   "source": [
    "job_list3 = pd.read_csv('calls2.csv')\n",
    "#Remove repeat data\n",
    "job_list4 = job_list3.drop_duplicates()\n",
    "job_list4.to_excel('joblist.xlsx')"
   ]
  },
  {
   "cell_type": "code",
   "execution_count": null,
   "metadata": {},
   "outputs": [],
   "source": [
    "job_list5 = pd.read_excel('joblist.xlsx')\n",
    "#Datasets cleaner\n",
    "job_list5.head()"
   ]
  }
 ],
 "metadata": {
  "kernelspec": {
   "display_name": "Python 3",
   "language": "python",
   "name": "python3"
  },
  "language_info": {
   "codemirror_mode": {
    "name": "ipython",
    "version": 3
   },
   "file_extension": ".py",
   "mimetype": "text/x-python",
   "name": "python",
   "nbconvert_exporter": "python",
   "pygments_lexer": "ipython3",
   "version": "3.6.5"
  }
 },
 "nbformat": 4,
 "nbformat_minor": 2
}
